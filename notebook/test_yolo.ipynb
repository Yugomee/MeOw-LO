{
 "cells": [
  {
   "cell_type": "code",
   "execution_count": 8,
   "id": "43c1c4d6-8de2-4864-be50-c0f0a9ab16cd",
   "metadata": {},
   "outputs": [],
   "source": [
    "import cv2\n",
    "import os\n",
    "from ultralytics import YOLO\n",
    "import numpy as np\n",
    "from typing import List\n",
    "import time\n",
    "import argparse\n",
    "from PIL import Image\n",
    "import json\n",
    "import datetime\n",
    "import matplotlib.pyplot as plt\n",
    "from IPython.display import display\n",
    "import IPython\n",
    "import torch\n",
    "from pathlib import Path"
   ]
  },
  {
   "cell_type": "code",
   "execution_count": 4,
   "id": "468e927e-3e52-41e4-a652-4fd597bd27ed",
   "metadata": {},
   "outputs": [],
   "source": [
    "IMAGE_FORMATS = [\"heic\", \"jpg\", \"png\", \"jpeg\"]"
   ]
  },
  {
   "cell_type": "code",
   "execution_count": 5,
   "id": "d8d00a1e-ab46-4b7a-8e3d-c0ecef0fafa0",
   "metadata": {},
   "outputs": [],
   "source": [
    "detector = YOLO('/data/etc/molo/yolov8m.pt')"
   ]
  },
  {
   "cell_type": "code",
   "execution_count": 6,
   "id": "d99c4142-de46-4555-92da-2d02a1465eba",
   "metadata": {},
   "outputs": [],
   "source": [
    "data_dir = '/data/etc/molo/CAT_test'"
   ]
  },
  {
   "cell_type": "code",
   "execution_count": 30,
   "id": "2d9441dd-7c05-4086-a76c-e13a9dcae6eb",
   "metadata": {},
   "outputs": [],
   "source": [
    "def detect_cats_in_folder(folder_path, model):\n",
    "    # Define the path to the directory containing the images\n",
    "    path = Path(folder_path)\n",
    "    \n",
    "    # List all image files in the directory\n",
    "    images = list(path.glob('*.jpg')) + list(path.glob('*.png')) + list(path.glob('*.jpeg')) + list(path.glob('*.PNG'))\n",
    "    \n",
    "    # Iterate over each image\n",
    "    for image_path in images:\n",
    "        # Load the image\n",
    "        image = np.array(Image.open(image_path))\n",
    "        if image.shape[2] == 4:\n",
    "            image = image[:,:,3]\n",
    "        \n",
    "        # Perform detection\n",
    "        results = model(image, device='cuda')\n",
    "        result = results[0]\n",
    "        bboxes = np.array(result.boxes.xyxy.cpu(), dtype = 'int')\n",
    "        classes = np.array(result.boxes.cls.cpu(), dtype = 'int')\n",
    "\n",
    "        images = []\n",
    "        for cls, bbox in zip(classes, bboxes):\n",
    "            if cls == 15:\n",
    "                img = image[bbox[1]:bbox[3], bbox[0], bbox[2]]\n",
    "                if np.any([size==0 for size in img.shape]):\n",
    "                    continue \n",
    "                images.append(img) \n",
    "        for i in images:\n",
    "            plt.imshow(i)\n",
    "            plt.show()"
   ]
  },
  {
   "cell_type": "code",
   "execution_count": 31,
   "id": "fd2bc060-b549-42f1-817c-9d00aee1059c",
   "metadata": {},
   "outputs": [
    {
     "name": "stdout",
     "output_type": "stream",
     "text": [
      "\n",
      "0: 512x640 1 cat, 9.5ms\n",
      "Speed: 3.6ms preprocess, 9.5ms inference, 1.1ms postprocess per image at shape (1, 3, 512, 640)\n"
     ]
    },
    {
     "ename": "IndexError",
     "evalue": "index 1022 is out of bounds for axis 2 with size 3",
     "output_type": "error",
     "traceback": [
      "\u001b[0;31m---------------------------------------------------------------------------\u001b[0m",
      "\u001b[0;31mIndexError\u001b[0m                                Traceback (most recent call last)",
      "Cell \u001b[0;32mIn[31], line 1\u001b[0m\n\u001b[0;32m----> 1\u001b[0m detect_cats_in_folder(data_dir, detector)\n",
      "Cell \u001b[0;32mIn[30], line 24\u001b[0m, in \u001b[0;36mdetect_cats_in_folder\u001b[0;34m(folder_path, model)\u001b[0m\n\u001b[1;32m     22\u001b[0m \u001b[38;5;28;01mfor\u001b[39;00m \u001b[38;5;28mcls\u001b[39m, bbox \u001b[38;5;129;01min\u001b[39;00m \u001b[38;5;28mzip\u001b[39m(classes, bboxes):\n\u001b[1;32m     23\u001b[0m     \u001b[38;5;28;01mif\u001b[39;00m \u001b[38;5;28mcls\u001b[39m \u001b[38;5;241m==\u001b[39m \u001b[38;5;241m15\u001b[39m:\n\u001b[0;32m---> 24\u001b[0m         img \u001b[38;5;241m=\u001b[39m image[bbox[\u001b[38;5;241m1\u001b[39m]:bbox[\u001b[38;5;241m3\u001b[39m], bbox[\u001b[38;5;241m0\u001b[39m], bbox[\u001b[38;5;241m2\u001b[39m]]\n\u001b[1;32m     25\u001b[0m         \u001b[38;5;28;01mif\u001b[39;00m np\u001b[38;5;241m.\u001b[39many([size\u001b[38;5;241m==\u001b[39m\u001b[38;5;241m0\u001b[39m \u001b[38;5;28;01mfor\u001b[39;00m size \u001b[38;5;129;01min\u001b[39;00m img\u001b[38;5;241m.\u001b[39mshape]):\n\u001b[1;32m     26\u001b[0m             \u001b[38;5;28;01mcontinue\u001b[39;00m \n",
      "\u001b[0;31mIndexError\u001b[0m: index 1022 is out of bounds for axis 2 with size 3"
     ]
    }
   ],
   "source": [
    "detect_cats_in_folder(data_dir, detector)"
   ]
  },
  {
   "cell_type": "code",
   "execution_count": null,
   "id": "7d0243ff-8da4-4a07-835a-f71db5192623",
   "metadata": {},
   "outputs": [],
   "source": []
  }
 ],
 "metadata": {
  "kernelspec": {
   "display_name": "dl",
   "language": "python",
   "name": "dl"
  },
  "language_info": {
   "codemirror_mode": {
    "name": "ipython",
    "version": 3
   },
   "file_extension": ".py",
   "mimetype": "text/x-python",
   "name": "python",
   "nbconvert_exporter": "python",
   "pygments_lexer": "ipython3",
   "version": "3.12.2"
  }
 },
 "nbformat": 4,
 "nbformat_minor": 5
}
